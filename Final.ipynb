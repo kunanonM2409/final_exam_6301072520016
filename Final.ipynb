{
 "cells": [
  {
   "cell_type": "code",
   "execution_count": 16,
   "metadata": {},
   "outputs": [],
   "source": [
    "import os\n",
    "import cv2\n",
    "import numpy as np"
   ]
  },
  {
   "cell_type": "code",
   "execution_count": 17,
   "metadata": {},
   "outputs": [],
   "source": [
    "frame_color = (188,132,255)"
   ]
  },
  {
   "cell_type": "code",
   "execution_count": 18,
   "metadata": {},
   "outputs": [],
   "source": [
    "def feature_object_detection(org_img, gray_img, frame, gray_frame, min_match_number) :\n",
    "    img_kpts, img_desc = cv2.SIFT_create().detectAndCompute(gray_img, None)\n",
    "    frame_kpts, frame_desc = cv2.SIFT_create().detectAndCompute(gray_frame, None)\n",
    "    matches = cv2.BFMatcher().knnMatch(img_desc, frame_desc, k=2)\n",
    "    good_matches = list()\n",
    "    good_matches_list = list()\n",
    "    for m, n in matches :\n",
    "        if m.distance < 0.68*n.distance :\n",
    "            good_matches.append(m)\n",
    "            good_matches_list.append([m])\n",
    "\n",
    "    if len(good_matches) > min_match_number :\n",
    "        src_pts = np.float32([ img_kpts[m.queryIdx].pt for m in good_matches ]).reshape(-1,1,2)\n",
    "        dst_pts = np.float32([ frame_kpts[m.trainIdx].pt for m in good_matches ]).reshape(-1,1,2)\n",
    "\n",
    "        Homography, _ = cv2.findHomography(src_pts, dst_pts, cv2.RANSAC, 0.0)\n",
    "        \n",
    "        height, width = org_img.shape[:2]\n",
    "        img_points = np.float32([[0, 0], [0, height-1], [width-1, height-1], [width-1, 0]]).reshape(-1,1,2)\n",
    "        book_points = cv2.perspectiveTransform(img_points, Homography)\n",
    "\n",
    "        detected_book = cv2.polylines(frame, [np.int32(book_points)], True, frame_color, 2, cv2.LINE_AA)\n",
    "\n",
    "        return detected_book\n",
    "    else :\n",
    "        return frame\n",
    "    "
   ]
  },
  {
   "cell_type": "code",
   "execution_count": 19,
   "metadata": {},
   "outputs": [],
   "source": [
    "org_img = cv2.imread('./images/final_exam/Templates/Template-3.png')\n",
    "blur_img = cv2.bilateralFilter(org_img,9,75,75)\n",
    "blur_img = cv2.GaussianBlur(blur_img,(5,5),cv2.BORDER_DEFAULT)\n",
    "gray_img = cv2.cvtColor(blur_img, cv2.COLOR_BGR2GRAY)\n",
    "\n",
    "org_vid = cv2.VideoCapture('./videos/final_exam/Dataset-2/left_output.avi')\n",
    "kernel = np.array([[0, 0, 0],\n",
    "                   [0, 2.5, 0],\n",
    "                   [0, 0, 0]])"
   ]
  },
  {
   "cell_type": "code",
   "execution_count": 20,
   "metadata": {},
   "outputs": [],
   "source": [
    "while org_vid.isOpened() :\n",
    "    ret, frame = org_vid.read()\n",
    "    \n",
    "    if ret :\n",
    "        sharp_frame = cv2.filter2D(src=frame, ddepth=-1, kernel=kernel)\n",
    "        gray_frame = cv2.cvtColor(sharp_frame, cv2.COLOR_BGR2GRAY)\n",
    "        \n",
    "        detected = feature_object_detection(org_img, gray_img, frame, gray_frame, 10.5)\n",
    "\n",
    "        cv2.imshow('Video frame', detected)\n",
    "\n",
    "        if cv2.waitKey(int(1000/30)) & 0xFF == 27:\n",
    "            break\n",
    "    else :\n",
    "        break\n",
    "org_vid.release()\n",
    "cv2.destroyAllWindows()"
   ]
  }
 ],
 "metadata": {
  "kernelspec": {
   "display_name": "Python 3.10.6 64-bit",
   "language": "python",
   "name": "python3"
  },
  "language_info": {
   "codemirror_mode": {
    "name": "ipython",
    "version": 3
   },
   "file_extension": ".py",
   "mimetype": "text/x-python",
   "name": "python",
   "nbconvert_exporter": "python",
   "pygments_lexer": "ipython3",
   "version": "3.10.6"
  },
  "orig_nbformat": 4,
  "vscode": {
   "interpreter": {
    "hash": "0d72b21489300652f2337cd7f80c57cc00ce6bbc92cf98d285c178d0a8ced433"
   }
  }
 },
 "nbformat": 4,
 "nbformat_minor": 2
}
